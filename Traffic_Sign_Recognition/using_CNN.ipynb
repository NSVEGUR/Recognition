{
 "cells": [
  {
   "attachments": {},
   "cell_type": "markdown",
   "metadata": {},
   "source": [
    "# Traffic Sign Recognition"
   ]
  },
  {
   "attachments": {},
   "cell_type": "markdown",
   "metadata": {},
   "source": [
    "Lets get a overview of steps performing in traffic sign recognition.\n",
    "- Data preprocessing using `PIL` (Python Image Library).\n",
    "- Building a `CNN` Convolutional Neural Network Model.\n",
    "- Training the model on [GTRSB](https://www.kaggle.com/datasets/meowmeowmeowmeowmeow/gtsrb-german-traffic-sign) traffic signs dataset and validation.\n",
    "- Testing the model with test dataset and deployment.\n",
    "-----"
   ]
  },
  {
   "attachments": {},
   "cell_type": "markdown",
   "metadata": {},
   "source": [
    "Lets import all the required modules,\n",
    "  - Choose `image_vector_size` as you needed which indicates the resize pixels of image.\n",
    "  - `classes` represents number of classes to be classified in `GTRSB` dataset."
   ]
  },
  {
   "cell_type": "code",
   "execution_count": 17,
   "metadata": {},
   "outputs": [],
   "source": [
    "import os\n",
    "from time import time\n",
    "import pandas as pd\n",
    "import numpy as np\n",
    "import matplotlib.pyplot as plt\n",
    "import tensorflow as tf\n",
    "from PIL import Image\n",
    "from sklearn.model_selection import train_test_split\n",
    "from keras.utils import to_categorical\n",
    "from keras.models import Sequential\n",
    "from keras.layers import Conv2D, MaxPool2D, Dense, Flatten, Dropout\n",
    "\n",
    "image_vector_size = 30\n",
    "classes = 43"
   ]
  },
  {
   "attachments": {},
   "cell_type": "markdown",
   "metadata": {},
   "source": [
    "### 1. Data Preprocessing"
   ]
  },
  {
   "attachments": {},
   "cell_type": "markdown",
   "metadata": {},
   "source": [
    "Lets use the PIL library to read the images according to data folder structure and convert them into arrays as feature vectors."
   ]
  },
  {
   "cell_type": "code",
   "execution_count": 18,
   "metadata": {},
   "outputs": [],
   "source": [
    "class Preprocess():\n",
    "\tdef __init__(self, path):\n",
    "\t\tself.training_path = path\n",
    "\n",
    "\tdef get_training_data(self):\n",
    "\t\timages = []\n",
    "\t\tlabels = []\n",
    "\t\tdir = os.listdir(self.training_path)\n",
    "\t\tfor img_dir in dir:\n",
    "\t\t\tlabel = str(img_dir)\n",
    "\t\t\tif not label.startswith(\".\"):\n",
    "\t\t\t\tcur_dir = os.listdir(self.training_path + '/' + img_dir)\n",
    "\t\t\t\tfor img_name in cur_dir:\n",
    "\t\t\t\t\tif not img_name.startswith(\".\"):\n",
    "\t\t\t\t\t\ttry:\n",
    "\t\t\t\t\t\t\timg = Image.open(self.training_path + '/' + img_dir + '/' + img_name)\n",
    "\t\t\t\t\t\t\timg = np.array(img.resize((image_vector_size, image_vector_size)))\n",
    "\t\t\t\t\t\t\timages.append(img)\n",
    "\t\t\t\t\t\t\tlabels.append(label)\n",
    "\t\t\t\t\t\texcept:\n",
    "\t\t\t\t\t\t\tprint(\"Error Loading image\")\n",
    "\t\treturn (np.array(images),np.array(labels))"
   ]
  },
  {
   "cell_type": "code",
   "execution_count": 19,
   "metadata": {},
   "outputs": [
    {
     "name": "stdout",
     "output_type": "stream",
     "text": [
      "Started Reading Images ......\n",
      "Done in  11.759s\n"
     ]
    }
   ],
   "source": [
    "training_path = \"Data/Train\"\n",
    "\n",
    "t0 = time()\n",
    "print(\"Started Reading Images ......\")\n",
    "preprocessor = Preprocess(training_path)\n",
    "images_train, labels_train = preprocessor.get_training_data()\n",
    "print(\"Done in % 0.3fs\" % (time() - t0))"
   ]
  },
  {
   "attachments": {},
   "cell_type": "markdown",
   "metadata": {},
   "source": [
    "Since we got our images and their labels lets split the data into train test and validate our model."
   ]
  },
  {
   "cell_type": "code",
   "execution_count": 20,
   "metadata": {},
   "outputs": [],
   "source": [
    "X_train, X_test, y_train, y_test = train_test_split(images_train, labels_train, test_size=0.2, random_state=42)"
   ]
  },
  {
   "attachments": {},
   "cell_type": "markdown",
   "metadata": {},
   "source": [
    "Lets convert our labels to categorical variables based on number of classes using keras as it will better learn and categorize our `CNN` model."
   ]
  },
  {
   "cell_type": "code",
   "execution_count": 21,
   "metadata": {},
   "outputs": [
    {
     "name": "stdout",
     "output_type": "stream",
     "text": [
      "(31367, 30, 30, 3) (7842, 30, 30, 3) (31367, 43) (7842, 43)\n"
     ]
    }
   ],
   "source": [
    "y_train = to_categorical(y_train, classes)\n",
    "y_test = to_categorical(y_test, classes)\n",
    "\n",
    "print(X_train.shape, X_test.shape, y_train.shape, y_test.shape)"
   ]
  },
  {
   "attachments": {},
   "cell_type": "markdown",
   "metadata": {},
   "source": [
    "### 2. Building model"
   ]
  },
  {
   "attachments": {},
   "cell_type": "markdown",
   "metadata": {},
   "source": [
    "To classify our images into respective `43` classes lets use `Convolutional Neural Networks` model which is best for image classification purpose. The architecture of our model as follows:\n",
    "\n",
    "- Conv2D layer `(filter=32, kernel_size=(5,5), activation=”relu”)`\n",
    "- MaxPool2D layer `( pool_size=(2,2))`\n",
    "- Dropout layer `(rate=0.25)`\n",
    "- 2 Conv2D layer `(filter=64, kernel_size=(3,3), activation=”relu”)`\n",
    "- MaxPool2D layer `( pool_size=(2,2))`\n",
    "- Dropout layer `(rate=0.25)`\n",
    "- Flatten layer to squeeze the layers into 1 dimension\n",
    "- Dense Fully connected layer `(256 nodes, activation=”relu”)`\n",
    "- Dropout layer `(rate=0.5)`\n",
    "- Dense layer `(43 nodes, activation=”softmax”)`"
   ]
  },
  {
   "cell_type": "code",
   "execution_count": 22,
   "metadata": {},
   "outputs": [],
   "source": [
    "model = Sequential()\n",
    "\n",
    "model.add(Conv2D(filters=32, kernel_size=(5,5), activation=\"relu\", input_shape=X_train.shape[1:]))\n",
    "model.add(Conv2D(filters=32, kernel_size=(5,5), activation=\"relu\"))\n",
    "model.add(MaxPool2D(pool_size=(2, 2)))\n",
    "model.add(Dropout(rate=0.25))\n",
    "model.add(Conv2D(filters=64, kernel_size=(3,3), activation=\"relu\"))\n",
    "model.add(Conv2D(filters=64, kernel_size=(3,3), activation=\"relu\"))\n",
    "model.add(MaxPool2D(pool_size=(2, 2)))\n",
    "model.add(Dropout(rate=0.25))\n",
    "model.add(Flatten())\n",
    "model.add(Dense(256, activation=\"relu\"))\n",
    "model.add(Dropout(rate=0.5))\n",
    "model.add(Dense(43, activation=\"softmax\"))"
   ]
  },
  {
   "attachments": {},
   "cell_type": "markdown",
   "metadata": {},
   "source": [
    "Lets compile the model with `Adam-optimizer` which performs well and since we have multiple classes to categorize using `categorical_crossentropy` as loss."
   ]
  },
  {
   "cell_type": "code",
   "execution_count": 23,
   "metadata": {},
   "outputs": [],
   "source": [
    "model.compile(loss=\"categorical_crossentropy\", optimizer=\"adam\", metrics=[\"accuracy\"])"
   ]
  },
  {
   "attachments": {},
   "cell_type": "markdown",
   "metadata": {},
   "source": [
    "### 3. Training the model"
   ]
  },
  {
   "attachments": {},
   "cell_type": "markdown",
   "metadata": {},
   "source": [
    "After building the model lets train using the training dataset we have, Since 64 `batch size` performs well among 32 and 64 lets use 64 as our batch size and since after 15 `epochs` the accuracy was stable and wasn't changing much lets stop our neural network training at that threshold."
   ]
  },
  {
   "cell_type": "code",
   "execution_count": 24,
   "metadata": {},
   "outputs": [
    {
     "name": "stdout",
     "output_type": "stream",
     "text": [
      "Epoch 1/15\n",
      "491/491 [==============================] - 24s 48ms/step - loss: 2.5478 - accuracy: 0.3865 - val_loss: 0.8986 - val_accuracy: 0.7712\n",
      "Epoch 2/15\n",
      "491/491 [==============================] - 25s 52ms/step - loss: 1.0446 - accuracy: 0.6864 - val_loss: 0.5826 - val_accuracy: 0.8440\n",
      "Epoch 3/15\n",
      "491/491 [==============================] - 26s 53ms/step - loss: 0.7484 - accuracy: 0.7737 - val_loss: 0.3087 - val_accuracy: 0.9186\n",
      "Epoch 4/15\n",
      "491/491 [==============================] - 26s 53ms/step - loss: 0.5944 - accuracy: 0.8181 - val_loss: 0.2371 - val_accuracy: 0.9249\n",
      "Epoch 5/15\n",
      "491/491 [==============================] - 26s 53ms/step - loss: 0.5029 - accuracy: 0.8482 - val_loss: 0.1885 - val_accuracy: 0.9450\n",
      "Epoch 6/15\n",
      "491/491 [==============================] - 28s 57ms/step - loss: 0.4429 - accuracy: 0.8664 - val_loss: 0.1773 - val_accuracy: 0.9434\n",
      "Epoch 7/15\n",
      "491/491 [==============================] - 27s 56ms/step - loss: 0.3920 - accuracy: 0.8800 - val_loss: 0.1365 - val_accuracy: 0.9633\n",
      "Epoch 8/15\n",
      "491/491 [==============================] - 27s 56ms/step - loss: 0.3527 - accuracy: 0.8921 - val_loss: 0.1120 - val_accuracy: 0.9681\n",
      "Epoch 9/15\n",
      "491/491 [==============================] - 27s 56ms/step - loss: 0.3299 - accuracy: 0.8996 - val_loss: 0.1070 - val_accuracy: 0.9694\n",
      "Epoch 10/15\n",
      "491/491 [==============================] - 27s 55ms/step - loss: 0.3219 - accuracy: 0.9024 - val_loss: 0.0956 - val_accuracy: 0.9704\n",
      "Epoch 11/15\n",
      "491/491 [==============================] - 28s 57ms/step - loss: 0.2898 - accuracy: 0.9125 - val_loss: 0.0904 - val_accuracy: 0.9718\n",
      "Epoch 12/15\n",
      "491/491 [==============================] - 27s 55ms/step - loss: 0.2910 - accuracy: 0.9128 - val_loss: 0.0861 - val_accuracy: 0.9745\n",
      "Epoch 13/15\n",
      "491/491 [==============================] - 27s 55ms/step - loss: 0.2787 - accuracy: 0.9156 - val_loss: 0.0870 - val_accuracy: 0.9769\n",
      "Epoch 14/15\n",
      "491/491 [==============================] - 27s 56ms/step - loss: 0.2428 - accuracy: 0.9276 - val_loss: 0.0763 - val_accuracy: 0.9774\n",
      "Epoch 15/15\n",
      "491/491 [==============================] - 28s 56ms/step - loss: 0.2414 - accuracy: 0.9288 - val_loss: 0.0610 - val_accuracy: 0.9830\n"
     ]
    }
   ],
   "source": [
    "epochs = 15\n",
    "\n",
    "history = model.fit(X_train, y_train, batch_size=64, epochs=epochs, validation_data=(X_test, y_test))"
   ]
  },
  {
   "attachments": {},
   "cell_type": "markdown",
   "metadata": {},
   "source": [
    "Lets plot the graph for accuracy and loss, like to visualize how they are varying with epochs."
   ]
  },
  {
   "cell_type": "code",
   "execution_count": 25,
   "metadata": {},
   "outputs": [
    {
     "data": {
      "text/plain": [
       "<matplotlib.legend.Legend at 0x281325420>"
      ]
     },
     "execution_count": 25,
     "metadata": {},
     "output_type": "execute_result"
    },
    {
     "data": {
      "image/png": "[encoded data removed]",
      "text/plain": [
       "<Figure size 640x480 with 1 Axes>"
      ]
     },
     "metadata": {},
     "output_type": "display_data"
    },
    {
     "data": {
      "image/png": "[encoded data removed]",
      "text/plain": [
       "<Figure size 640x480 with 1 Axes>"
      ]
     },
     "metadata": {},
     "output_type": "display_data"
    }
   ],
   "source": [
    "plt.figure(0)\n",
    "\n",
    "plt.plot(history.history[\"accuracy\"], label=\"Training Accuracy\")\n",
    "plt.plot(history.history[\"val_accuracy\"], label=\"Validation Accuracy\")\n",
    "plt.xlabel(\"Epochs\")\n",
    "plt.ylabel(\"Accuracy\")\n",
    "plt.legend()\n",
    "\n",
    "plt.figure(1)\n",
    "\n",
    "plt.plot(history.history[\"loss\"], label=\"Training Loss\")\n",
    "plt.plot(history.history[\"val_loss\"], label=\"Validation Loss\")\n",
    "plt.title(\"Loss v/s Epochs\")\n",
    "plt.xlabel(\"Epochs\")\n",
    "plt.ylabel(\"Loss\")\n",
    "plt.legend()"
   ]
  },
  {
   "attachments": {},
   "cell_type": "markdown",
   "metadata": {},
   "source": [
    "### 4. Testing and deployment"
   ]
  },
  {
   "attachments": {},
   "cell_type": "markdown",
   "metadata": {},
   "source": [
    "As we got our model trained, lets get the testing data in vector format similarly as we performed in the beginning for training images using `PIL`. Labels of these test data are present in `Test.csv` file of `GTRSB` dataset."
   ]
  },
  {
   "cell_type": "code",
   "execution_count": 26,
   "metadata": {},
   "outputs": [],
   "source": [
    "def get_test_data(path):\n",
    "\ty_test = pd.read_csv(path + \"/Test.csv\")\n",
    "\tlabels = y_test[\"ClassId\"].values\n",
    "\timgs = y_test[\"Path\"].values\n",
    "\tdata = []\n",
    "\tfor img in imgs:\n",
    "\t\ttry:\n",
    "\t\t\timage = Image.open(path + '/' + img)\n",
    "\t\t\timage = np.array(image.resize((image_vector_size, image_vector_size)))\n",
    "\t\t\tdata.append(image)\n",
    "\t\texcept:\n",
    "\t\t\tprint(\"Error Loading image\")\n",
    "\treturn (np.array(data),labels)"
   ]
  },
  {
   "cell_type": "code",
   "execution_count": 27,
   "metadata": {},
   "outputs": [
    {
     "name": "stdout",
     "output_type": "stream",
     "text": [
      "395/395 [==============================] - 3s 7ms/step\n"
     ]
    }
   ],
   "source": [
    "path = \"Data\"\n",
    "\n",
    "X_test, y_test = get_test_data(path)\n",
    "predict_x = model.predict(X_test) \n",
    "y_pred= np.argmax(predict_x,axis=1)"
   ]
  },
  {
   "attachments": {},
   "cell_type": "markdown",
   "metadata": {},
   "source": [
    "As we got our predicted results lets test our models accuracy score."
   ]
  },
  {
   "cell_type": "code",
   "execution_count": 28,
   "metadata": {},
   "outputs": [
    {
     "name": "stdout",
     "output_type": "stream",
     "text": [
      "Accuracy score of our CNN model is: 0.944338875692795\n"
     ]
    }
   ],
   "source": [
    "from sklearn.metrics import accuracy_score\n",
    "\n",
    "score = accuracy_score(y_test, y_pred)\n",
    "print(f\"Accuracy score of our CNN model is: {score}\")"
   ]
  },
  {
   "attachments": {},
   "cell_type": "markdown",
   "metadata": {},
   "source": [
    "### Deployment"
   ]
  },
  {
   "cell_type": "code",
   "execution_count": 29,
   "metadata": {},
   "outputs": [],
   "source": [
    "model.save(\"model.h5\")"
   ]
  }
 ],
 "metadata": {
  "kernelspec": {
   "display_name": "tf",
   "language": "python",
   "name": "python3"
  },
  "language_info": {
   "codemirror_mode": {
    "name": "ipython",
    "version": 3
   },
   "file_extension": ".py",
   "mimetype": "text/x-python",
   "name": "python",
   "nbconvert_exporter": "python",
   "pygments_lexer": "ipython3",
   "version": "3.10.8"
  },
  "orig_nbformat": 4,
  "vscode": {
   "interpreter": {
    "hash": "cfbdc5764c4dd07ea09f1200e18fa165209c3409d30052b1de747242ab1bbee0"
   }
  }
 },
 "nbformat": 4,
 "nbformat_minor": 2
}
